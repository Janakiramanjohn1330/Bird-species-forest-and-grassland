{
 "cells": [
  {
   "cell_type": "markdown",
   "metadata": {},
   "source": [
    "# Bird_Monitoring_Data_GRASSLAND\n"
   ]
  },
  {
   "cell_type": "code",
   "execution_count": 12,
   "metadata": {},
   "outputs": [
    {
     "name": "stdout",
     "output_type": "stream",
     "text": [
      "missing data:\n",
      " Admin_Unit_Code                   0\n",
      "Sub_Unit_Code                  8531\n",
      "Plot_Name                         0\n",
      "Location_Type                     0\n",
      "Year                              0\n",
      "Date                              0\n",
      "Start_Time                        0\n",
      "End_Time                          0\n",
      "Observer                          0\n",
      "Visit                             0\n",
      "Interval_Length                   0\n",
      "ID_Method                         1\n",
      "Distance                       1394\n",
      "Flyover_Observed                  0\n",
      "Sex                               0\n",
      "Common_Name                       0\n",
      "Scientific_Name                   0\n",
      "AcceptedTSN                      24\n",
      "TaxonCode                         2\n",
      "AOU_Code                          0\n",
      "PIF_Watchlist_Status              0\n",
      "Regional_Stewardship_Status       0\n",
      "Temperature                       0\n",
      "Humidity                          0\n",
      "Sky                               0\n",
      "Wind                              0\n",
      "Disturbance                       0\n",
      "Previously_Obs                    0\n",
      "Initial_Three_Min_Cnt             0\n",
      "dtype: int64\n",
      "missing_percentage:\n",
      " Admin_Unit_Code                  0.000000\n",
      "Sub_Unit_Code                  100.000000\n",
      "Plot_Name                        0.000000\n",
      "Location_Type                    0.000000\n",
      "Year                             0.000000\n",
      "Date                             0.000000\n",
      "Start_Time                       0.000000\n",
      "End_Time                         0.000000\n",
      "Observer                         0.000000\n",
      "Visit                            0.000000\n",
      "Interval_Length                  0.000000\n",
      "ID_Method                        0.011722\n",
      "Distance                        16.340406\n",
      "Flyover_Observed                 0.000000\n",
      "Sex                              0.000000\n",
      "Common_Name                      0.000000\n",
      "Scientific_Name                  0.000000\n",
      "AcceptedTSN                      0.281327\n",
      "TaxonCode                        0.023444\n",
      "AOU_Code                         0.000000\n",
      "PIF_Watchlist_Status             0.000000\n",
      "Regional_Stewardship_Status      0.000000\n",
      "Temperature                      0.000000\n",
      "Humidity                         0.000000\n",
      "Sky                              0.000000\n",
      "Wind                             0.000000\n",
      "Disturbance                      0.000000\n",
      "Previously_Obs                   0.000000\n",
      "Initial_Three_Min_Cnt            0.000000\n",
      "dtype: float64\n"
     ]
    },
    {
     "name": "stderr",
     "output_type": "stream",
     "text": [
      "C:\\Users\\Admin\\AppData\\Local\\Temp\\ipykernel_3036\\2755589000.py:17: FutureWarning: The behavior of DataFrame concatenation with empty or all-NA entries is deprecated. In a future version, this will no longer exclude empty or all-NA columns when determining the result dtypes. To retain the old behavior, exclude the relevant entries before the concat operation.\n",
      "  combined_df2=pd.concat(\n"
     ]
    }
   ],
   "source": [
    "import pandas as pd \n",
    "import numpy as np\n",
    "\n",
    "# file path\n",
    "path2='Bird_Monitoring_Data_GRASSLAND.xlsx'\n",
    "\n",
    "#read the excel file\n",
    "excel_file2=pd.ExcelFile(path2)\n",
    "\n",
    "#get all the sheets\n",
    "sheet_name2=excel_file2.sheet_names\n",
    "\n",
    "#read data from all sheets into dictionary\n",
    "sheet_dict2={sheet:excel_file2.parse(sheet) for sheet in sheet_name2}\n",
    "\n",
    "#convert all data frame into single file\n",
    "combined_df2=pd.concat(\n",
    "    [df.assign(sheet=sheet_name)for sheet_name,df in sheet_dict2.items()],\n",
    "    ignore_index=True\n",
    ")\n",
    "df2=combined_df2.drop(columns=['sheet'])\n",
    "#calculate the missing values\n",
    "missing_values2=df2.isnull().sum()\n",
    "\n",
    "# calculste the missing values in percentage\n",
    "missing_percentage2=(df2.isnull().sum() / len (df2)*100)\n",
    "\n",
    "print('missing data:\\n',missing_values2)\n",
    "print('missing_percentage:\\n',missing_percentage2)\n"
   ]
  },
  {
   "cell_type": "code",
   "execution_count": 13,
   "metadata": {},
   "outputs": [
    {
     "name": "stdout",
     "output_type": "stream",
     "text": [
      "categorical data:\n",
      " ['Admin_Unit_Code', 'Sub_Unit_Code', 'Plot_Name', 'Location_Type', 'Year', 'Start_Time', 'End_Time', 'Observer', 'Visit', 'Interval_Length', 'ID_Method', 'Distance', 'Flyover_Observed', 'Sex', 'Common_Name', 'Scientific_Name', 'AOU_Code', 'PIF_Watchlist_Status', 'Regional_Stewardship_Status', 'Sky', 'Wind', 'Disturbance', 'Previously_Obs', 'Initial_Three_Min_Cnt']\n",
      "numerical data:\n",
      " ['Date', 'AcceptedTSN', 'TaxonCode', 'Temperature', 'Humidity']\n"
     ]
    }
   ],
   "source": [
    "#check the categorical data\n",
    "cat_data2=[col for col in df2.columns if df2[col].dtype=='object']\n",
    "print('categorical data:\\n',cat_data2)\n",
    "\n",
    "#check the numerical data\n",
    "num_data2=[col for col in df2.columns if df2[col].dtype!='object']\n",
    "print('numerical data:\\n',num_data2)\n"
   ]
  },
  {
   "cell_type": "code",
   "execution_count": 14,
   "metadata": {},
   "outputs": [],
   "source": [
    "# drop the sub unit code column because it have 100% null values\n",
    "df2.drop(columns=['Sub_Unit_Code'],inplace=True)"
   ]
  },
  {
   "cell_type": "code",
   "execution_count": 15,
   "metadata": {},
   "outputs": [
    {
     "name": "stdout",
     "output_type": "stream",
     "text": [
      "1705\n"
     ]
    }
   ],
   "source": [
    "#check the duplicate\n",
    "duplicates=df2.duplicated().sum()\n",
    "print(duplicates)"
   ]
  },
  {
   "cell_type": "code",
   "execution_count": 16,
   "metadata": {},
   "outputs": [
    {
     "name": "stdout",
     "output_type": "stream",
     "text": [
      "None\n"
     ]
    }
   ],
   "source": [
    "# using drop_duplicate function to remove the duplicate data\n",
    "duplicates_drop=df2.drop_duplicates(inplace=True)\n",
    "print(duplicates_drop)"
   ]
  },
  {
   "cell_type": "code",
   "execution_count": 17,
   "metadata": {},
   "outputs": [
    {
     "name": "stdout",
     "output_type": "stream",
     "text": [
      "0\n"
     ]
    }
   ],
   "source": [
    "duplicates_drop_check=df2.duplicated().sum()\n",
    "print(duplicates_drop_check)"
   ]
  },
  {
   "cell_type": "markdown",
   "metadata": {},
   "source": [
    "# Impute the missing data"
   ]
  },
  {
   "cell_type": "code",
   "execution_count": 18,
   "metadata": {},
   "outputs": [
    {
     "name": "stdout",
     "output_type": "stream",
     "text": [
      "Singing\n",
      "50 - 100 Meters\n",
      "202493.54370500954\n",
      "105706.43771981243\n"
     ]
    }
   ],
   "source": [
    "#impute the data for missing values using mode for the categorical data\n",
    "method=df2['ID_Method'].mode()[0]\n",
    "df2['ID_Method']=df2['ID_Method'].fillna(method)\n",
    "\n",
    "Distance=df2['Distance'].mode()[0]\n",
    "df2['Distance']=df2['Distance'].fillna(Distance)\n",
    "\n",
    "#using mean for the numerical data\n",
    "Accepted=df2['AcceptedTSN'].mean()\n",
    "df2['AcceptedTSN']=df2['AcceptedTSN'].fillna(Accepted)\n",
    "\n",
    "TaxonCode=df2['TaxonCode'].mean()\n",
    "df2['TaxonCode']=df2['TaxonCode'].fillna(TaxonCode)\n",
    "\n",
    "print(method)\n",
    "print(Distance)\n",
    "print(Accepted)\n",
    "print(TaxonCode)"
   ]
  },
  {
   "cell_type": "code",
   "execution_count": 19,
   "metadata": {},
   "outputs": [],
   "source": [
    "# create a dataframe\n",
    "G1=pd.DataFrame(df2)"
   ]
  },
  {
   "cell_type": "code",
   "execution_count": 20,
   "metadata": {},
   "outputs": [],
   "source": [
    "# convert dataframe into  csv file\n",
    "G1.to_csv('Grassland.csv',index=False)"
   ]
  },
  {
   "cell_type": "code",
   "execution_count": 21,
   "metadata": {},
   "outputs": [
    {
     "name": "stdout",
     "output_type": "stream",
     "text": [
      "     Admin_Unit_Code  Plot_Name Location_Type  Year       Date Start_Time  \\\n",
      "0               ANTI  ANTI-0054     Grassland  2018 2018-05-22   05:35:00   \n",
      "1               ANTI  ANTI-0054     Grassland  2018 2018-05-22   05:35:00   \n",
      "2               ANTI  ANTI-0054     Grassland  2018 2018-05-22   05:35:00   \n",
      "3               ANTI  ANTI-0054     Grassland  2018 2018-05-22   05:35:00   \n",
      "4               ANTI  ANTI-0054     Grassland  2018 2018-05-22   05:35:00   \n",
      "...              ...        ...           ...   ...        ...        ...   \n",
      "8514            MONO  MONO-0089     Grassland  2018 2018-05-10   06:35:00   \n",
      "8515            MONO  MONO-0089     Grassland  2018 2018-05-10   06:35:00   \n",
      "8516            MONO  MONO-0089     Grassland  2018 2018-05-10   06:35:00   \n",
      "8517            MONO  MONO-0089     Grassland  2018 2018-05-10   06:35:00   \n",
      "8521            MONO  MONO-0089     Grassland  2018 2018-05-10   06:35:00   \n",
      "\n",
      "      End_Time          Observer Visit Interval_Length  ... AOU_Code  \\\n",
      "0     05:45:00  Elizabeth Oswald     1       0-2.5 min  ...     CHSP   \n",
      "1     05:45:00  Elizabeth Oswald     1    7.5 - 10 min  ...     EABL   \n",
      "2     05:45:00  Elizabeth Oswald     1       0-2.5 min  ...     GRSP   \n",
      "3     05:45:00  Elizabeth Oswald     1       0-2.5 min  ...     EABL   \n",
      "4     05:45:00  Elizabeth Oswald     1       0-2.5 min  ...     FISP   \n",
      "...        ...               ...   ...             ...  ...      ...   \n",
      "8514  06:46:00    Brian Swimelar     1       0-2.5 min  ...     AMRO   \n",
      "8515  06:46:00    Brian Swimelar     1     2.5 - 5 min  ...     COGR   \n",
      "8516  06:46:00    Brian Swimelar     1       0-2.5 min  ...     INBU   \n",
      "8517  06:46:00    Brian Swimelar     1       0-2.5 min  ...     EUST   \n",
      "8521  06:46:00    Brian Swimelar     1     2.5 - 5 min  ...     BLJA   \n",
      "\n",
      "     PIF_Watchlist_Status Regional_Stewardship_Status Temperature Humidity  \\\n",
      "0                   False                       False        20.0     79.0   \n",
      "1                   False                       False        20.0     79.0   \n",
      "2                   False                       False        20.0     79.0   \n",
      "3                   False                       False        20.0     79.0   \n",
      "4                   False                        True        20.0     79.0   \n",
      "...                   ...                         ...         ...      ...   \n",
      "8514                False                       False        19.0     63.0   \n",
      "8515                False                       False        19.0     63.0   \n",
      "8516                False                        True        19.0     63.0   \n",
      "8517                False                       False        19.0     63.0   \n",
      "8521                False                       False        19.0     63.0   \n",
      "\n",
      "                  Sky                                       Wind  \\\n",
      "0     Cloudy/Overcast   Light breeze (4-7 mph) wind felt on face   \n",
      "1     Cloudy/Overcast   Light breeze (4-7 mph) wind felt on face   \n",
      "2     Cloudy/Overcast   Light breeze (4-7 mph) wind felt on face   \n",
      "3     Cloudy/Overcast   Light breeze (4-7 mph) wind felt on face   \n",
      "4     Cloudy/Overcast   Light breeze (4-7 mph) wind felt on face   \n",
      "...               ...                                        ...   \n",
      "8514    Partly Cloudy  Light air movement (1-3 mph) smoke drifts   \n",
      "8515    Partly Cloudy  Light air movement (1-3 mph) smoke drifts   \n",
      "8516    Partly Cloudy  Light air movement (1-3 mph) smoke drifts   \n",
      "8517    Partly Cloudy  Light air movement (1-3 mph) smoke drifts   \n",
      "8521    Partly Cloudy  Light air movement (1-3 mph) smoke drifts   \n",
      "\n",
      "                 Disturbance Previously_Obs Initial_Three_Min_Cnt  \n",
      "0     Slight effect on count          False                  True  \n",
      "1     Slight effect on count          False                 False  \n",
      "2     Slight effect on count          False                  True  \n",
      "3     Slight effect on count          False                  True  \n",
      "4     Slight effect on count          False                  True  \n",
      "...                      ...            ...                   ...  \n",
      "8514  Slight effect on count          False                  True  \n",
      "8515  Slight effect on count          False                 False  \n",
      "8516  Slight effect on count          False                  True  \n",
      "8517  Slight effect on count          False                  True  \n",
      "8521  Slight effect on count          False                  True  \n",
      "\n",
      "[6826 rows x 28 columns]\n"
     ]
    }
   ],
   "source": [
    "print(G1)"
   ]
  },
  {
   "cell_type": "code",
   "execution_count": 22,
   "metadata": {},
   "outputs": [
    {
     "data": {
      "text/plain": [
       "Admin_Unit_Code                0\n",
       "Plot_Name                      0\n",
       "Location_Type                  0\n",
       "Year                           0\n",
       "Date                           0\n",
       "Start_Time                     0\n",
       "End_Time                       0\n",
       "Observer                       0\n",
       "Visit                          0\n",
       "Interval_Length                0\n",
       "ID_Method                      0\n",
       "Distance                       0\n",
       "Flyover_Observed               0\n",
       "Sex                            0\n",
       "Common_Name                    0\n",
       "Scientific_Name                0\n",
       "AcceptedTSN                    0\n",
       "TaxonCode                      0\n",
       "AOU_Code                       0\n",
       "PIF_Watchlist_Status           0\n",
       "Regional_Stewardship_Status    0\n",
       "Temperature                    0\n",
       "Humidity                       0\n",
       "Sky                            0\n",
       "Wind                           0\n",
       "Disturbance                    0\n",
       "Previously_Obs                 0\n",
       "Initial_Three_Min_Cnt          0\n",
       "dtype: int64"
      ]
     },
     "execution_count": 22,
     "metadata": {},
     "output_type": "execute_result"
    }
   ],
   "source": [
    "G1.isnull().sum()"
   ]
  },
  {
   "cell_type": "code",
   "execution_count": 23,
   "metadata": {},
   "outputs": [
    {
     "data": {
      "text/html": [
       "<div>\n",
       "<style scoped>\n",
       "    .dataframe tbody tr th:only-of-type {\n",
       "        vertical-align: middle;\n",
       "    }\n",
       "\n",
       "    .dataframe tbody tr th {\n",
       "        vertical-align: top;\n",
       "    }\n",
       "\n",
       "    .dataframe thead th {\n",
       "        text-align: right;\n",
       "    }\n",
       "</style>\n",
       "<table border=\"1\" class=\"dataframe\">\n",
       "  <thead>\n",
       "    <tr style=\"text-align: right;\">\n",
       "      <th></th>\n",
       "      <th>Date</th>\n",
       "      <th>AcceptedTSN</th>\n",
       "      <th>TaxonCode</th>\n",
       "      <th>Temperature</th>\n",
       "      <th>Humidity</th>\n",
       "    </tr>\n",
       "  </thead>\n",
       "  <tbody>\n",
       "    <tr>\n",
       "      <th>count</th>\n",
       "      <td>6826</td>\n",
       "      <td>6826.000000</td>\n",
       "      <td>6826.000000</td>\n",
       "      <td>6826.000000</td>\n",
       "      <td>6826.000000</td>\n",
       "    </tr>\n",
       "    <tr>\n",
       "      <th>mean</th>\n",
       "      <td>2018-06-14 19:22:22.748315392</td>\n",
       "      <td>202493.543705</td>\n",
       "      <td>105706.437720</td>\n",
       "      <td>23.272956</td>\n",
       "      <td>69.655098</td>\n",
       "    </tr>\n",
       "    <tr>\n",
       "      <th>min</th>\n",
       "      <td>2018-05-07 00:00:00</td>\n",
       "      <td>174773.000000</td>\n",
       "      <td>76625.000000</td>\n",
       "      <td>11.000000</td>\n",
       "      <td>7.300000</td>\n",
       "    </tr>\n",
       "    <tr>\n",
       "      <th>25%</th>\n",
       "      <td>2018-05-23 00:00:00</td>\n",
       "      <td>178775.000000</td>\n",
       "      <td>84865.000000</td>\n",
       "      <td>20.200001</td>\n",
       "      <td>62.200001</td>\n",
       "    </tr>\n",
       "    <tr>\n",
       "      <th>50%</th>\n",
       "      <td>2018-06-19 00:00:00</td>\n",
       "      <td>179150.000000</td>\n",
       "      <td>88296.000000</td>\n",
       "      <td>22.799999</td>\n",
       "      <td>70.099998</td>\n",
       "    </tr>\n",
       "    <tr>\n",
       "      <th>75%</th>\n",
       "      <td>2018-07-11 00:00:00</td>\n",
       "      <td>179443.000000</td>\n",
       "      <td>94215.000000</td>\n",
       "      <td>26.400000</td>\n",
       "      <td>80.300003</td>\n",
       "    </tr>\n",
       "    <tr>\n",
       "      <th>max</th>\n",
       "      <td>2018-07-19 00:00:00</td>\n",
       "      <td>950061.000000</td>\n",
       "      <td>926917.000000</td>\n",
       "      <td>37.299999</td>\n",
       "      <td>98.800003</td>\n",
       "    </tr>\n",
       "    <tr>\n",
       "      <th>std</th>\n",
       "      <td>NaN</td>\n",
       "      <td>104527.729487</td>\n",
       "      <td>90311.129394</td>\n",
       "      <td>4.669413</td>\n",
       "      <td>13.740033</td>\n",
       "    </tr>\n",
       "  </tbody>\n",
       "</table>\n",
       "</div>"
      ],
      "text/plain": [
       "                                Date    AcceptedTSN      TaxonCode  \\\n",
       "count                           6826    6826.000000    6826.000000   \n",
       "mean   2018-06-14 19:22:22.748315392  202493.543705  105706.437720   \n",
       "min              2018-05-07 00:00:00  174773.000000   76625.000000   \n",
       "25%              2018-05-23 00:00:00  178775.000000   84865.000000   \n",
       "50%              2018-06-19 00:00:00  179150.000000   88296.000000   \n",
       "75%              2018-07-11 00:00:00  179443.000000   94215.000000   \n",
       "max              2018-07-19 00:00:00  950061.000000  926917.000000   \n",
       "std                              NaN  104527.729487   90311.129394   \n",
       "\n",
       "       Temperature     Humidity  \n",
       "count  6826.000000  6826.000000  \n",
       "mean     23.272956    69.655098  \n",
       "min      11.000000     7.300000  \n",
       "25%      20.200001    62.200001  \n",
       "50%      22.799999    70.099998  \n",
       "75%      26.400000    80.300003  \n",
       "max      37.299999    98.800003  \n",
       "std       4.669413    13.740033  "
      ]
     },
     "execution_count": 23,
     "metadata": {},
     "output_type": "execute_result"
    }
   ],
   "source": [
    "# using describe to check the summary stats\n",
    "G1.describe()"
   ]
  },
  {
   "cell_type": "code",
   "execution_count": 24,
   "metadata": {},
   "outputs": [
    {
     "data": {
      "text/html": [
       "<div>\n",
       "<style scoped>\n",
       "    .dataframe tbody tr th:only-of-type {\n",
       "        vertical-align: middle;\n",
       "    }\n",
       "\n",
       "    .dataframe tbody tr th {\n",
       "        vertical-align: top;\n",
       "    }\n",
       "\n",
       "    .dataframe thead th {\n",
       "        text-align: right;\n",
       "    }\n",
       "</style>\n",
       "<table border=\"1\" class=\"dataframe\">\n",
       "  <thead>\n",
       "    <tr style=\"text-align: right;\">\n",
       "      <th></th>\n",
       "      <th>count</th>\n",
       "      <th>mean</th>\n",
       "      <th>min</th>\n",
       "      <th>25%</th>\n",
       "      <th>50%</th>\n",
       "      <th>75%</th>\n",
       "      <th>max</th>\n",
       "      <th>std</th>\n",
       "    </tr>\n",
       "  </thead>\n",
       "  <tbody>\n",
       "    <tr>\n",
       "      <th>Date</th>\n",
       "      <td>6826</td>\n",
       "      <td>2018-06-14 19:22:22.748315392</td>\n",
       "      <td>2018-05-07 00:00:00</td>\n",
       "      <td>2018-05-23 00:00:00</td>\n",
       "      <td>2018-06-19 00:00:00</td>\n",
       "      <td>2018-07-11 00:00:00</td>\n",
       "      <td>2018-07-19 00:00:00</td>\n",
       "      <td>NaN</td>\n",
       "    </tr>\n",
       "    <tr>\n",
       "      <th>AcceptedTSN</th>\n",
       "      <td>6826.0</td>\n",
       "      <td>202493.543705</td>\n",
       "      <td>174773.0</td>\n",
       "      <td>178775.0</td>\n",
       "      <td>179150.0</td>\n",
       "      <td>179443.0</td>\n",
       "      <td>950061.0</td>\n",
       "      <td>104527.729487</td>\n",
       "    </tr>\n",
       "    <tr>\n",
       "      <th>TaxonCode</th>\n",
       "      <td>6826.0</td>\n",
       "      <td>105706.43772</td>\n",
       "      <td>76625.0</td>\n",
       "      <td>84865.0</td>\n",
       "      <td>88296.0</td>\n",
       "      <td>94215.0</td>\n",
       "      <td>926917.0</td>\n",
       "      <td>90311.129394</td>\n",
       "    </tr>\n",
       "    <tr>\n",
       "      <th>Temperature</th>\n",
       "      <td>6826.0</td>\n",
       "      <td>23.272956</td>\n",
       "      <td>11.0</td>\n",
       "      <td>20.200001</td>\n",
       "      <td>22.799999</td>\n",
       "      <td>26.4</td>\n",
       "      <td>37.299999</td>\n",
       "      <td>4.669413</td>\n",
       "    </tr>\n",
       "    <tr>\n",
       "      <th>Humidity</th>\n",
       "      <td>6826.0</td>\n",
       "      <td>69.655098</td>\n",
       "      <td>7.3</td>\n",
       "      <td>62.200001</td>\n",
       "      <td>70.099998</td>\n",
       "      <td>80.300003</td>\n",
       "      <td>98.800003</td>\n",
       "      <td>13.740033</td>\n",
       "    </tr>\n",
       "  </tbody>\n",
       "</table>\n",
       "</div>"
      ],
      "text/plain": [
       "              count                           mean                  min  \\\n",
       "Date           6826  2018-06-14 19:22:22.748315392  2018-05-07 00:00:00   \n",
       "AcceptedTSN  6826.0                  202493.543705             174773.0   \n",
       "TaxonCode    6826.0                   105706.43772              76625.0   \n",
       "Temperature  6826.0                      23.272956                 11.0   \n",
       "Humidity     6826.0                      69.655098                  7.3   \n",
       "\n",
       "                             25%                  50%                  75%  \\\n",
       "Date         2018-05-23 00:00:00  2018-06-19 00:00:00  2018-07-11 00:00:00   \n",
       "AcceptedTSN             178775.0             179150.0             179443.0   \n",
       "TaxonCode                84865.0              88296.0              94215.0   \n",
       "Temperature            20.200001            22.799999                 26.4   \n",
       "Humidity               62.200001            70.099998            80.300003   \n",
       "\n",
       "                             max            std  \n",
       "Date         2018-07-19 00:00:00            NaN  \n",
       "AcceptedTSN             950061.0  104527.729487  \n",
       "TaxonCode               926917.0   90311.129394  \n",
       "Temperature            37.299999       4.669413  \n",
       "Humidity               98.800003      13.740033  "
      ]
     },
     "execution_count": 24,
     "metadata": {},
     "output_type": "execute_result"
    }
   ],
   "source": [
    "#check the summary stats by index\n",
    "G1.describe().T"
   ]
  },
  {
   "cell_type": "code",
   "execution_count": 25,
   "metadata": {},
   "outputs": [
    {
     "data": {
      "text/html": [
       "<div>\n",
       "<style scoped>\n",
       "    .dataframe tbody tr th:only-of-type {\n",
       "        vertical-align: middle;\n",
       "    }\n",
       "\n",
       "    .dataframe tbody tr th {\n",
       "        vertical-align: top;\n",
       "    }\n",
       "\n",
       "    .dataframe thead th {\n",
       "        text-align: right;\n",
       "    }\n",
       "</style>\n",
       "<table border=\"1\" class=\"dataframe\">\n",
       "  <thead>\n",
       "    <tr style=\"text-align: right;\">\n",
       "      <th></th>\n",
       "      <th>Admin_Unit_Code</th>\n",
       "      <th>Plot_Name</th>\n",
       "      <th>Location_Type</th>\n",
       "      <th>Year</th>\n",
       "      <th>Start_Time</th>\n",
       "      <th>End_Time</th>\n",
       "      <th>Observer</th>\n",
       "      <th>Visit</th>\n",
       "      <th>Interval_Length</th>\n",
       "      <th>ID_Method</th>\n",
       "      <th>...</th>\n",
       "      <th>Common_Name</th>\n",
       "      <th>Scientific_Name</th>\n",
       "      <th>AOU_Code</th>\n",
       "      <th>PIF_Watchlist_Status</th>\n",
       "      <th>Regional_Stewardship_Status</th>\n",
       "      <th>Sky</th>\n",
       "      <th>Wind</th>\n",
       "      <th>Disturbance</th>\n",
       "      <th>Previously_Obs</th>\n",
       "      <th>Initial_Three_Min_Cnt</th>\n",
       "    </tr>\n",
       "  </thead>\n",
       "  <tbody>\n",
       "    <tr>\n",
       "      <th>count</th>\n",
       "      <td>6826</td>\n",
       "      <td>6826</td>\n",
       "      <td>6826</td>\n",
       "      <td>6826</td>\n",
       "      <td>6826</td>\n",
       "      <td>6826</td>\n",
       "      <td>6826</td>\n",
       "      <td>6826</td>\n",
       "      <td>6826</td>\n",
       "      <td>6826</td>\n",
       "      <td>...</td>\n",
       "      <td>6826</td>\n",
       "      <td>6826</td>\n",
       "      <td>6826</td>\n",
       "      <td>6826</td>\n",
       "      <td>6826</td>\n",
       "      <td>6826</td>\n",
       "      <td>6826</td>\n",
       "      <td>6826</td>\n",
       "      <td>6826</td>\n",
       "      <td>6826</td>\n",
       "    </tr>\n",
       "    <tr>\n",
       "      <th>unique</th>\n",
       "      <td>4</td>\n",
       "      <td>201</td>\n",
       "      <td>1</td>\n",
       "      <td>1</td>\n",
       "      <td>273</td>\n",
       "      <td>276</td>\n",
       "      <td>3</td>\n",
       "      <td>3</td>\n",
       "      <td>4</td>\n",
       "      <td>3</td>\n",
       "      <td>...</td>\n",
       "      <td>107</td>\n",
       "      <td>107</td>\n",
       "      <td>107</td>\n",
       "      <td>2</td>\n",
       "      <td>2</td>\n",
       "      <td>5</td>\n",
       "      <td>4</td>\n",
       "      <td>4</td>\n",
       "      <td>1</td>\n",
       "      <td>2</td>\n",
       "    </tr>\n",
       "    <tr>\n",
       "      <th>top</th>\n",
       "      <td>ANTI</td>\n",
       "      <td>ANTI-0163</td>\n",
       "      <td>Grassland</td>\n",
       "      <td>2018</td>\n",
       "      <td>07:29:00</td>\n",
       "      <td>07:39:00</td>\n",
       "      <td>Elizabeth Oswald</td>\n",
       "      <td>1</td>\n",
       "      <td>0-2.5 min</td>\n",
       "      <td>Singing</td>\n",
       "      <td>...</td>\n",
       "      <td>Northern Cardinal</td>\n",
       "      <td>Cardinalis cardinalis</td>\n",
       "      <td>NOCA</td>\n",
       "      <td>False</td>\n",
       "      <td>False</td>\n",
       "      <td>Partly Cloudy</td>\n",
       "      <td>Light air movement (1-3 mph) smoke drifts</td>\n",
       "      <td>Slight effect on count</td>\n",
       "      <td>False</td>\n",
       "      <td>True</td>\n",
       "    </tr>\n",
       "    <tr>\n",
       "      <th>freq</th>\n",
       "      <td>3130</td>\n",
       "      <td>54</td>\n",
       "      <td>6826</td>\n",
       "      <td>6826</td>\n",
       "      <td>74</td>\n",
       "      <td>74</td>\n",
       "      <td>2478</td>\n",
       "      <td>2474</td>\n",
       "      <td>3345</td>\n",
       "      <td>4192</td>\n",
       "      <td>...</td>\n",
       "      <td>530</td>\n",
       "      <td>530</td>\n",
       "      <td>530</td>\n",
       "      <td>6786</td>\n",
       "      <td>5381</td>\n",
       "      <td>3183</td>\n",
       "      <td>3534</td>\n",
       "      <td>3149</td>\n",
       "      <td>6826</td>\n",
       "      <td>3570</td>\n",
       "    </tr>\n",
       "  </tbody>\n",
       "</table>\n",
       "<p>4 rows × 23 columns</p>\n",
       "</div>"
      ],
      "text/plain": [
       "       Admin_Unit_Code  Plot_Name Location_Type  Year Start_Time  End_Time  \\\n",
       "count             6826       6826          6826  6826       6826      6826   \n",
       "unique               4        201             1     1        273       276   \n",
       "top               ANTI  ANTI-0163     Grassland  2018   07:29:00  07:39:00   \n",
       "freq              3130         54          6826  6826         74        74   \n",
       "\n",
       "                Observer  Visit Interval_Length ID_Method  ...  \\\n",
       "count               6826   6826            6826      6826  ...   \n",
       "unique                 3      3               4         3  ...   \n",
       "top     Elizabeth Oswald      1       0-2.5 min   Singing  ...   \n",
       "freq                2478   2474            3345      4192  ...   \n",
       "\n",
       "              Common_Name        Scientific_Name AOU_Code  \\\n",
       "count                6826                   6826     6826   \n",
       "unique                107                    107      107   \n",
       "top     Northern Cardinal  Cardinalis cardinalis     NOCA   \n",
       "freq                  530                    530      530   \n",
       "\n",
       "       PIF_Watchlist_Status Regional_Stewardship_Status            Sky  \\\n",
       "count                  6826                        6826           6826   \n",
       "unique                    2                           2              5   \n",
       "top                   False                       False  Partly Cloudy   \n",
       "freq                   6786                        5381           3183   \n",
       "\n",
       "                                             Wind             Disturbance  \\\n",
       "count                                        6826                    6826   \n",
       "unique                                          4                       4   \n",
       "top     Light air movement (1-3 mph) smoke drifts  Slight effect on count   \n",
       "freq                                         3534                    3149   \n",
       "\n",
       "       Previously_Obs Initial_Three_Min_Cnt  \n",
       "count            6826                  6826  \n",
       "unique              1                     2  \n",
       "top             False                  True  \n",
       "freq             6826                  3570  \n",
       "\n",
       "[4 rows x 23 columns]"
      ]
     },
     "execution_count": 25,
     "metadata": {},
     "output_type": "execute_result"
    }
   ],
   "source": [
    "#check the summary stats by index\n",
    "G1.describe(include='object')"
   ]
  },
  {
   "cell_type": "code",
   "execution_count": 26,
   "metadata": {},
   "outputs": [
    {
     "data": {
      "text/html": [
       "<div>\n",
       "<style scoped>\n",
       "    .dataframe tbody tr th:only-of-type {\n",
       "        vertical-align: middle;\n",
       "    }\n",
       "\n",
       "    .dataframe tbody tr th {\n",
       "        vertical-align: top;\n",
       "    }\n",
       "\n",
       "    .dataframe thead th {\n",
       "        text-align: right;\n",
       "    }\n",
       "</style>\n",
       "<table border=\"1\" class=\"dataframe\">\n",
       "  <thead>\n",
       "    <tr style=\"text-align: right;\">\n",
       "      <th></th>\n",
       "      <th>Admin_Unit_Code</th>\n",
       "      <th>Plot_Name</th>\n",
       "      <th>Location_Type</th>\n",
       "      <th>Year</th>\n",
       "      <th>Date</th>\n",
       "      <th>Start_Time</th>\n",
       "      <th>End_Time</th>\n",
       "      <th>Observer</th>\n",
       "      <th>Visit</th>\n",
       "      <th>Interval_Length</th>\n",
       "      <th>...</th>\n",
       "      <th>AOU_Code</th>\n",
       "      <th>PIF_Watchlist_Status</th>\n",
       "      <th>Regional_Stewardship_Status</th>\n",
       "      <th>Temperature</th>\n",
       "      <th>Humidity</th>\n",
       "      <th>Sky</th>\n",
       "      <th>Wind</th>\n",
       "      <th>Disturbance</th>\n",
       "      <th>Previously_Obs</th>\n",
       "      <th>Initial_Three_Min_Cnt</th>\n",
       "    </tr>\n",
       "  </thead>\n",
       "  <tbody>\n",
       "    <tr>\n",
       "      <th>0</th>\n",
       "      <td>ANTI</td>\n",
       "      <td>ANTI-0054</td>\n",
       "      <td>Grassland</td>\n",
       "      <td>2018</td>\n",
       "      <td>2018-05-22</td>\n",
       "      <td>05:35:00</td>\n",
       "      <td>05:45:00</td>\n",
       "      <td>Elizabeth Oswald</td>\n",
       "      <td>1</td>\n",
       "      <td>0-2.5 min</td>\n",
       "      <td>...</td>\n",
       "      <td>CHSP</td>\n",
       "      <td>False</td>\n",
       "      <td>False</td>\n",
       "      <td>20.0</td>\n",
       "      <td>79.000000</td>\n",
       "      <td>Cloudy/Overcast</td>\n",
       "      <td>Light breeze (4-7 mph) wind felt on face</td>\n",
       "      <td>Slight effect on count</td>\n",
       "      <td>False</td>\n",
       "      <td>True</td>\n",
       "    </tr>\n",
       "    <tr>\n",
       "      <th>1</th>\n",
       "      <td>ANTI</td>\n",
       "      <td>ANTI-0054</td>\n",
       "      <td>Grassland</td>\n",
       "      <td>2018</td>\n",
       "      <td>2018-05-22</td>\n",
       "      <td>05:35:00</td>\n",
       "      <td>05:45:00</td>\n",
       "      <td>Elizabeth Oswald</td>\n",
       "      <td>1</td>\n",
       "      <td>7.5 - 10 min</td>\n",
       "      <td>...</td>\n",
       "      <td>EABL</td>\n",
       "      <td>False</td>\n",
       "      <td>False</td>\n",
       "      <td>20.0</td>\n",
       "      <td>79.000000</td>\n",
       "      <td>Cloudy/Overcast</td>\n",
       "      <td>Light breeze (4-7 mph) wind felt on face</td>\n",
       "      <td>Slight effect on count</td>\n",
       "      <td>False</td>\n",
       "      <td>False</td>\n",
       "    </tr>\n",
       "    <tr>\n",
       "      <th>2</th>\n",
       "      <td>ANTI</td>\n",
       "      <td>ANTI-0054</td>\n",
       "      <td>Grassland</td>\n",
       "      <td>2018</td>\n",
       "      <td>2018-05-22</td>\n",
       "      <td>05:35:00</td>\n",
       "      <td>05:45:00</td>\n",
       "      <td>Elizabeth Oswald</td>\n",
       "      <td>1</td>\n",
       "      <td>0-2.5 min</td>\n",
       "      <td>...</td>\n",
       "      <td>GRSP</td>\n",
       "      <td>False</td>\n",
       "      <td>False</td>\n",
       "      <td>20.0</td>\n",
       "      <td>79.000000</td>\n",
       "      <td>Cloudy/Overcast</td>\n",
       "      <td>Light breeze (4-7 mph) wind felt on face</td>\n",
       "      <td>Slight effect on count</td>\n",
       "      <td>False</td>\n",
       "      <td>True</td>\n",
       "    </tr>\n",
       "    <tr>\n",
       "      <th>3</th>\n",
       "      <td>ANTI</td>\n",
       "      <td>ANTI-0054</td>\n",
       "      <td>Grassland</td>\n",
       "      <td>2018</td>\n",
       "      <td>2018-05-22</td>\n",
       "      <td>05:35:00</td>\n",
       "      <td>05:45:00</td>\n",
       "      <td>Elizabeth Oswald</td>\n",
       "      <td>1</td>\n",
       "      <td>0-2.5 min</td>\n",
       "      <td>...</td>\n",
       "      <td>EABL</td>\n",
       "      <td>False</td>\n",
       "      <td>False</td>\n",
       "      <td>20.0</td>\n",
       "      <td>79.000000</td>\n",
       "      <td>Cloudy/Overcast</td>\n",
       "      <td>Light breeze (4-7 mph) wind felt on face</td>\n",
       "      <td>Slight effect on count</td>\n",
       "      <td>False</td>\n",
       "      <td>True</td>\n",
       "    </tr>\n",
       "    <tr>\n",
       "      <th>4</th>\n",
       "      <td>ANTI</td>\n",
       "      <td>ANTI-0054</td>\n",
       "      <td>Grassland</td>\n",
       "      <td>2018</td>\n",
       "      <td>2018-05-22</td>\n",
       "      <td>05:35:00</td>\n",
       "      <td>05:45:00</td>\n",
       "      <td>Elizabeth Oswald</td>\n",
       "      <td>1</td>\n",
       "      <td>0-2.5 min</td>\n",
       "      <td>...</td>\n",
       "      <td>FISP</td>\n",
       "      <td>False</td>\n",
       "      <td>True</td>\n",
       "      <td>20.0</td>\n",
       "      <td>79.000000</td>\n",
       "      <td>Cloudy/Overcast</td>\n",
       "      <td>Light breeze (4-7 mph) wind felt on face</td>\n",
       "      <td>Slight effect on count</td>\n",
       "      <td>False</td>\n",
       "      <td>True</td>\n",
       "    </tr>\n",
       "    <tr>\n",
       "      <th>...</th>\n",
       "      <td>...</td>\n",
       "      <td>...</td>\n",
       "      <td>...</td>\n",
       "      <td>...</td>\n",
       "      <td>...</td>\n",
       "      <td>...</td>\n",
       "      <td>...</td>\n",
       "      <td>...</td>\n",
       "      <td>...</td>\n",
       "      <td>...</td>\n",
       "      <td>...</td>\n",
       "      <td>...</td>\n",
       "      <td>...</td>\n",
       "      <td>...</td>\n",
       "      <td>...</td>\n",
       "      <td>...</td>\n",
       "      <td>...</td>\n",
       "      <td>...</td>\n",
       "      <td>...</td>\n",
       "      <td>...</td>\n",
       "      <td>...</td>\n",
       "    </tr>\n",
       "    <tr>\n",
       "      <th>105</th>\n",
       "      <td>ANTI</td>\n",
       "      <td>ANTI-0053</td>\n",
       "      <td>Grassland</td>\n",
       "      <td>2018</td>\n",
       "      <td>2018-05-23</td>\n",
       "      <td>05:40:00</td>\n",
       "      <td>05:50:00</td>\n",
       "      <td>Elizabeth Oswald</td>\n",
       "      <td>1</td>\n",
       "      <td>0-2.5 min</td>\n",
       "      <td>...</td>\n",
       "      <td>EAWP</td>\n",
       "      <td>False</td>\n",
       "      <td>True</td>\n",
       "      <td>21.0</td>\n",
       "      <td>79.199997</td>\n",
       "      <td>Cloudy/Overcast</td>\n",
       "      <td>Light breeze (4-7 mph) wind felt on face</td>\n",
       "      <td>Slight effect on count</td>\n",
       "      <td>False</td>\n",
       "      <td>True</td>\n",
       "    </tr>\n",
       "    <tr>\n",
       "      <th>106</th>\n",
       "      <td>ANTI</td>\n",
       "      <td>ANTI-0053</td>\n",
       "      <td>Grassland</td>\n",
       "      <td>2018</td>\n",
       "      <td>2018-05-23</td>\n",
       "      <td>05:40:00</td>\n",
       "      <td>05:50:00</td>\n",
       "      <td>Elizabeth Oswald</td>\n",
       "      <td>1</td>\n",
       "      <td>0-2.5 min</td>\n",
       "      <td>...</td>\n",
       "      <td>FISP</td>\n",
       "      <td>False</td>\n",
       "      <td>True</td>\n",
       "      <td>21.0</td>\n",
       "      <td>79.199997</td>\n",
       "      <td>Cloudy/Overcast</td>\n",
       "      <td>Light breeze (4-7 mph) wind felt on face</td>\n",
       "      <td>Slight effect on count</td>\n",
       "      <td>False</td>\n",
       "      <td>True</td>\n",
       "    </tr>\n",
       "    <tr>\n",
       "      <th>107</th>\n",
       "      <td>ANTI</td>\n",
       "      <td>ANTI-0053</td>\n",
       "      <td>Grassland</td>\n",
       "      <td>2018</td>\n",
       "      <td>2018-05-23</td>\n",
       "      <td>05:40:00</td>\n",
       "      <td>05:50:00</td>\n",
       "      <td>Elizabeth Oswald</td>\n",
       "      <td>1</td>\n",
       "      <td>7.5 - 10 min</td>\n",
       "      <td>...</td>\n",
       "      <td>COGR</td>\n",
       "      <td>False</td>\n",
       "      <td>False</td>\n",
       "      <td>21.0</td>\n",
       "      <td>79.199997</td>\n",
       "      <td>Cloudy/Overcast</td>\n",
       "      <td>Light breeze (4-7 mph) wind felt on face</td>\n",
       "      <td>Slight effect on count</td>\n",
       "      <td>False</td>\n",
       "      <td>False</td>\n",
       "    </tr>\n",
       "    <tr>\n",
       "      <th>108</th>\n",
       "      <td>ANTI</td>\n",
       "      <td>ANTI-0053</td>\n",
       "      <td>Grassland</td>\n",
       "      <td>2018</td>\n",
       "      <td>2018-05-23</td>\n",
       "      <td>05:40:00</td>\n",
       "      <td>05:50:00</td>\n",
       "      <td>Elizabeth Oswald</td>\n",
       "      <td>1</td>\n",
       "      <td>5 - 7.5 min</td>\n",
       "      <td>...</td>\n",
       "      <td>EABL</td>\n",
       "      <td>False</td>\n",
       "      <td>False</td>\n",
       "      <td>21.0</td>\n",
       "      <td>79.199997</td>\n",
       "      <td>Cloudy/Overcast</td>\n",
       "      <td>Light breeze (4-7 mph) wind felt on face</td>\n",
       "      <td>Slight effect on count</td>\n",
       "      <td>False</td>\n",
       "      <td>False</td>\n",
       "    </tr>\n",
       "    <tr>\n",
       "      <th>110</th>\n",
       "      <td>ANTI</td>\n",
       "      <td>ANTI-0053</td>\n",
       "      <td>Grassland</td>\n",
       "      <td>2018</td>\n",
       "      <td>2018-05-23</td>\n",
       "      <td>05:40:00</td>\n",
       "      <td>05:50:00</td>\n",
       "      <td>Elizabeth Oswald</td>\n",
       "      <td>1</td>\n",
       "      <td>5 - 7.5 min</td>\n",
       "      <td>...</td>\n",
       "      <td>EABL</td>\n",
       "      <td>False</td>\n",
       "      <td>False</td>\n",
       "      <td>21.0</td>\n",
       "      <td>79.199997</td>\n",
       "      <td>Cloudy/Overcast</td>\n",
       "      <td>Light breeze (4-7 mph) wind felt on face</td>\n",
       "      <td>Slight effect on count</td>\n",
       "      <td>False</td>\n",
       "      <td>False</td>\n",
       "    </tr>\n",
       "  </tbody>\n",
       "</table>\n",
       "<p>100 rows × 28 columns</p>\n",
       "</div>"
      ],
      "text/plain": [
       "    Admin_Unit_Code  Plot_Name Location_Type  Year       Date Start_Time  \\\n",
       "0              ANTI  ANTI-0054     Grassland  2018 2018-05-22   05:35:00   \n",
       "1              ANTI  ANTI-0054     Grassland  2018 2018-05-22   05:35:00   \n",
       "2              ANTI  ANTI-0054     Grassland  2018 2018-05-22   05:35:00   \n",
       "3              ANTI  ANTI-0054     Grassland  2018 2018-05-22   05:35:00   \n",
       "4              ANTI  ANTI-0054     Grassland  2018 2018-05-22   05:35:00   \n",
       "..              ...        ...           ...   ...        ...        ...   \n",
       "105            ANTI  ANTI-0053     Grassland  2018 2018-05-23   05:40:00   \n",
       "106            ANTI  ANTI-0053     Grassland  2018 2018-05-23   05:40:00   \n",
       "107            ANTI  ANTI-0053     Grassland  2018 2018-05-23   05:40:00   \n",
       "108            ANTI  ANTI-0053     Grassland  2018 2018-05-23   05:40:00   \n",
       "110            ANTI  ANTI-0053     Grassland  2018 2018-05-23   05:40:00   \n",
       "\n",
       "     End_Time          Observer Visit Interval_Length  ... AOU_Code  \\\n",
       "0    05:45:00  Elizabeth Oswald     1       0-2.5 min  ...     CHSP   \n",
       "1    05:45:00  Elizabeth Oswald     1    7.5 - 10 min  ...     EABL   \n",
       "2    05:45:00  Elizabeth Oswald     1       0-2.5 min  ...     GRSP   \n",
       "3    05:45:00  Elizabeth Oswald     1       0-2.5 min  ...     EABL   \n",
       "4    05:45:00  Elizabeth Oswald     1       0-2.5 min  ...     FISP   \n",
       "..        ...               ...   ...             ...  ...      ...   \n",
       "105  05:50:00  Elizabeth Oswald     1       0-2.5 min  ...     EAWP   \n",
       "106  05:50:00  Elizabeth Oswald     1       0-2.5 min  ...     FISP   \n",
       "107  05:50:00  Elizabeth Oswald     1    7.5 - 10 min  ...     COGR   \n",
       "108  05:50:00  Elizabeth Oswald     1     5 - 7.5 min  ...     EABL   \n",
       "110  05:50:00  Elizabeth Oswald     1     5 - 7.5 min  ...     EABL   \n",
       "\n",
       "    PIF_Watchlist_Status Regional_Stewardship_Status Temperature   Humidity  \\\n",
       "0                  False                       False        20.0  79.000000   \n",
       "1                  False                       False        20.0  79.000000   \n",
       "2                  False                       False        20.0  79.000000   \n",
       "3                  False                       False        20.0  79.000000   \n",
       "4                  False                        True        20.0  79.000000   \n",
       "..                   ...                         ...         ...        ...   \n",
       "105                False                        True        21.0  79.199997   \n",
       "106                False                        True        21.0  79.199997   \n",
       "107                False                       False        21.0  79.199997   \n",
       "108                False                       False        21.0  79.199997   \n",
       "110                False                       False        21.0  79.199997   \n",
       "\n",
       "                 Sky                                      Wind  \\\n",
       "0    Cloudy/Overcast  Light breeze (4-7 mph) wind felt on face   \n",
       "1    Cloudy/Overcast  Light breeze (4-7 mph) wind felt on face   \n",
       "2    Cloudy/Overcast  Light breeze (4-7 mph) wind felt on face   \n",
       "3    Cloudy/Overcast  Light breeze (4-7 mph) wind felt on face   \n",
       "4    Cloudy/Overcast  Light breeze (4-7 mph) wind felt on face   \n",
       "..               ...                                       ...   \n",
       "105  Cloudy/Overcast  Light breeze (4-7 mph) wind felt on face   \n",
       "106  Cloudy/Overcast  Light breeze (4-7 mph) wind felt on face   \n",
       "107  Cloudy/Overcast  Light breeze (4-7 mph) wind felt on face   \n",
       "108  Cloudy/Overcast  Light breeze (4-7 mph) wind felt on face   \n",
       "110  Cloudy/Overcast  Light breeze (4-7 mph) wind felt on face   \n",
       "\n",
       "                Disturbance Previously_Obs Initial_Three_Min_Cnt  \n",
       "0    Slight effect on count          False                  True  \n",
       "1    Slight effect on count          False                 False  \n",
       "2    Slight effect on count          False                  True  \n",
       "3    Slight effect on count          False                  True  \n",
       "4    Slight effect on count          False                  True  \n",
       "..                      ...            ...                   ...  \n",
       "105  Slight effect on count          False                  True  \n",
       "106  Slight effect on count          False                  True  \n",
       "107  Slight effect on count          False                 False  \n",
       "108  Slight effect on count          False                 False  \n",
       "110  Slight effect on count          False                 False  \n",
       "\n",
       "[100 rows x 28 columns]"
      ]
     },
     "execution_count": 26,
     "metadata": {},
     "output_type": "execute_result"
    }
   ],
   "source": [
    "G1.head(100)"
   ]
  },
  {
   "cell_type": "code",
   "execution_count": 27,
   "metadata": {},
   "outputs": [
    {
     "data": {
      "text/plain": [
       "(6826, 28)"
      ]
     },
     "execution_count": 27,
     "metadata": {},
     "output_type": "execute_result"
    }
   ],
   "source": [
    "G1.shape"
   ]
  },
  {
   "cell_type": "markdown",
   "metadata": {},
   "source": [
    "# EDA"
   ]
  },
  {
   "cell_type": "code",
   "execution_count": 28,
   "metadata": {},
   "outputs": [
    {
     "name": "stdout",
     "output_type": "stream",
     "text": [
      "season\n",
      "summer    4352\n",
      "spring    2474\n",
      "Name: count, dtype: int64\n"
     ]
    },
    {
     "name": "stderr",
     "output_type": "stream",
     "text": [
      "C:\\Users\\Admin\\AppData\\Local\\Temp\\ipykernel_3036\\3987717282.py:27: FutureWarning: \n",
      "\n",
      "Passing `palette` without assigning `hue` is deprecated and will be removed in v0.14.0. Assign the `x` variable to `hue` and set `legend=False` for the same effect.\n",
      "\n",
      "  sns.barplot(x=count.index,y=count.values,palette=['red','blue'])\n"
     ]
    },
    {
     "data": {
      "image/png": "[encoded data removed]",
      "text/plain": [
       "<Figure size 1000x600 with 1 Axes>"
      ]
     },
     "metadata": {},
     "output_type": "display_data"
    }
   ],
   "source": [
    "import matplotlib.pyplot as plt\n",
    "import seaborn as sns\n",
    "\n",
    "file='grassland.csv'\n",
    "grass=pd.read_csv(file)\n",
    "\n",
    "# Seasonal Trends Analyze\n",
    "grass['Date']=pd.to_datetime(grass['Date'])\n",
    "grass['Month']=grass['Date'].dt.month\n",
    "\n",
    "def  land (season):\n",
    "    if season in [12,1,2]:\n",
    "     return 'winter'\n",
    "    elif season in [3,4,5]:\n",
    "       return 'spring'\n",
    "    elif season in [6,7,8]:\n",
    "       return 'summer'\n",
    "    else:\n",
    "        return 'fall'\n",
    "    \n",
    "grass['season']=grass['Month'].apply(land)\n",
    "count=grass['season'].value_counts()\n",
    "print(count)\n",
    "\n",
    "\n",
    "plt.figure(figsize=(10,6))\n",
    "sns.barplot(x=count.index,y=count.values,palette=['red','blue'])\n",
    "plt.title('Seasonal Trends Analyze')\n",
    "plt.xlabel('season')\n",
    "plt.ylabel('count')\n",
    "plt.show()\n"
   ]
  },
  {
   "cell_type": "code",
   "execution_count": 29,
   "metadata": {},
   "outputs": [
    {
     "name": "stdout",
     "output_type": "stream",
     "text": [
      "Start_Time\n",
      "5      654\n",
      "6     1548\n",
      "7     1683\n",
      "8     1276\n",
      "9     1037\n",
      "10     628\n",
      "Name: count, dtype: int64\n",
      "End_Time\n",
      "5      375\n",
      "6     1524\n",
      "7     1719\n",
      "8     1306\n",
      "9     1124\n",
      "10     778\n",
      "Name: count, dtype: int64\n"
     ]
    }
   ],
   "source": [
    "# Observation Time\n",
    "\n",
    "grass['Start_Time']=pd.to_datetime(grass['Start_Time'],format='%H:%M:%S').dt.hour\n",
    "grass['End_Time']=pd.to_datetime(grass['End_Time'],format='%H:%M:%S').dt.hour\n",
    "\n",
    "grass_st=grass['Start_Time'].value_counts().sort_index()\n",
    "grass_En=grass['End_Time'].value_counts().sort_index()\n",
    "\n",
    "print(grass_st)\n",
    "print(grass_En)\n",
    "\n"
   ]
  },
  {
   "cell_type": "code",
   "execution_count": 30,
   "metadata": {},
   "outputs": [
    {
     "data": {
      "image/png": "[encoded data removed]",
      "text/plain": [
       "<Figure size 1200x600 with 1 Axes>"
      ]
     },
     "metadata": {},
     "output_type": "display_data"
    }
   ],
   "source": [
    "plt.figure(figsize=(12,6))\n",
    "sns.lineplot(x=grass_st.index,y=grass_st.values,marker='o',linestyle='--',label='Start Time')\n",
    "sns.lineplot(x=grass_En.index,y=grass_En.values,marker='v',linestyle='--',label='End Time')\n",
    "plt.legend()\n",
    "plt.xticks(range(1,13))\n",
    "plt.grid()\n",
    "plt.show()\n"
   ]
  },
  {
   "cell_type": "code",
   "execution_count": 31,
   "metadata": {},
   "outputs": [
    {
     "name": "stdout",
     "output_type": "stream",
     "text": [
      "Plot_Name\n",
      "ANTI-0163    54\n",
      "ANTI-0028    52\n",
      "HAFE-0067    52\n",
      "MANA-0048    50\n",
      "ANTI-0016    49\n",
      "MONO-0037    48\n",
      "ANTI-0184    48\n",
      "ANTI-0034    48\n",
      "ANTI-0161    48\n",
      "MONO-0057    48\n",
      "Name: count, dtype: int64\n"
     ]
    },
    {
     "name": "stderr",
     "output_type": "stream",
     "text": [
      "C:\\Users\\Admin\\AppData\\Local\\Temp\\ipykernel_3036\\3286528308.py:7: FutureWarning: \n",
      "\n",
      "Passing `palette` without assigning `hue` is deprecated and will be removed in v0.14.0. Assign the `x` variable to `hue` and set `legend=False` for the same effect.\n",
      "\n",
      "  sns.barplot(x=plot.index,y=plot.values,palette='viridis')\n"
     ]
    },
    {
     "data": {
      "image/png": "[encoded data removed]",
      "text/plain": [
       "<Figure size 1200x500 with 1 Axes>"
      ]
     },
     "metadata": {},
     "output_type": "display_data"
    }
   ],
   "source": [
    "# Plot-Level Analysis\n",
    "\n",
    "plot=grass['Plot_Name'].value_counts().nlargest(10)\n",
    "print(plot)\n",
    "\n",
    "plt.figure(figsize=(12,5))\n",
    "sns.barplot(x=plot.index,y=plot.values,palette='viridis')\n",
    "plt.xlabel(\"Plot Name\")\n",
    "plt.ylabel(\"Count\")\n",
    "plt.title(\"Top 10 Plot Names\")\n",
    "plt.show()\n"
   ]
  },
  {
   "cell_type": "code",
   "execution_count": 32,
   "metadata": {},
   "outputs": [
    {
     "name": "stdout",
     "output_type": "stream",
     "text": [
      "Interval_Length\n",
      "0-2.5 min       3345\n",
      "2.5 - 5 min     1427\n",
      "5 - 7.5 min     1091\n",
      "7.5 - 10 min     963\n",
      "Name: count, dtype: int64\n"
     ]
    },
    {
     "name": "stderr",
     "output_type": "stream",
     "text": [
      "C:\\Users\\Admin\\AppData\\Local\\Temp\\ipykernel_3036\\1005114901.py:7: FutureWarning: \n",
      "\n",
      "Passing `palette` without assigning `hue` is deprecated and will be removed in v0.14.0. Assign the `x` variable to `hue` and set `legend=False` for the same effect.\n",
      "\n",
      "  sns.barplot(x=act.index,y=act.values,palette='viridis')\n"
     ]
    },
    {
     "data": {
      "image/png": "[encoded data removed]",
      "text/plain": [
       "<Figure size 640x480 with 1 Axes>"
      ]
     },
     "metadata": {},
     "output_type": "display_data"
    }
   ],
   "source": [
    "#Interval_Length \n",
    "\n",
    "act=grass['Interval_Length'].value_counts()\n",
    "print(act)\n",
    "\n",
    "plt.Figure(figsize=(10,6))\n",
    "sns.barplot(x=act.index,y=act.values,palette='viridis')\n",
    "plt.xlabel('Interval Length')\n",
    "plt.ylabel('count')\n",
    "plt.xticks(rotation=45)\n",
    "plt.show()"
   ]
  },
  {
   "cell_type": "code",
   "execution_count": 33,
   "metadata": {},
   "outputs": [
    {
     "name": "stdout",
     "output_type": "stream",
     "text": [
      "ID_Method\n",
      "Singing          4192\n",
      "Visualization    1370\n",
      "Calling          1264\n",
      "Name: count, dtype: int64\n"
     ]
    },
    {
     "name": "stderr",
     "output_type": "stream",
     "text": [
      "C:\\Users\\Admin\\AppData\\Local\\Temp\\ipykernel_3036\\732604672.py:7: FutureWarning: \n",
      "\n",
      "Passing `palette` without assigning `hue` is deprecated and will be removed in v0.14.0. Assign the `x` variable to `hue` and set `legend=False` for the same effect.\n",
      "\n",
      "  sns.barplot(x=ID.index,y=ID.values,palette='coolwarm')\n"
     ]
    },
    {
     "data": {
      "image/png": "[encoded data removed]",
      "text/plain": [
       "<Figure size 1200x500 with 1 Axes>"
      ]
     },
     "metadata": {},
     "output_type": "display_data"
    }
   ],
   "source": [
    "# ID_Method\n",
    "\n",
    "ID=grass['ID_Method'].value_counts()\n",
    "print(ID)\n",
    "\n",
    "plt.figure(figsize=(12,5))\n",
    "sns.barplot(x=ID.index,y=ID.values,palette='coolwarm')\n",
    "plt.xlabel('ID METHOD')\n",
    "plt.ylabel('count')\n",
    "plt.title('Activity Patterns')\n",
    "plt.show()"
   ]
  },
  {
   "cell_type": "code",
   "execution_count": 48,
   "metadata": {},
   "outputs": [
    {
     "name": "stdout",
     "output_type": "stream",
     "text": [
      "Sex\n",
      "Undetermined    3650\n",
      "Male            3050\n",
      "Female           126\n",
      "Name: count, dtype: int64\n"
     ]
    },
    {
     "name": "stderr",
     "output_type": "stream",
     "text": [
      "C:\\Users\\Admin\\AppData\\Local\\Temp\\ipykernel_3036\\4046677071.py:5: FutureWarning: \n",
      "\n",
      "Passing `palette` without assigning `hue` is deprecated and will be removed in v0.14.0. Assign the `x` variable to `hue` and set `legend=False` for the same effect.\n",
      "\n",
      "  sns.barplot(data=sex,palette='viridis')\n"
     ]
    },
    {
     "data": {
      "image/png": "[encoded data removed]",
      "text/plain": [
       "<Figure size 1200x500 with 1 Axes>"
      ]
     },
     "metadata": {},
     "output_type": "display_data"
    }
   ],
   "source": [
    "sex=grass['Sex'].value_counts()\n",
    "print(sex)\n",
    "\n",
    "plt.figure(figsize=(12,5))\n",
    "sns.barplot(data=sex,palette='viridis')\n",
    "plt.show()"
   ]
  },
  {
   "cell_type": "code",
   "execution_count": 34,
   "metadata": {},
   "outputs": [
    {
     "data": {
      "image/png": "[encoded data removed]",
      "text/plain": [
       "<Figure size 500x600 with 2 Axes>"
      ]
     },
     "metadata": {},
     "output_type": "display_data"
    }
   ],
   "source": [
    "from sklearn.preprocessing import LabelEncoder\n",
    "\n",
    "En_coder=LabelEncoder()\n",
    "grass['Common_Name']=En_coder.fit_transform(grass['Common_Name'])\n",
    "grass['Wind']=En_coder.fit_transform(grass['Wind'])\n",
    "grass['Sky']=En_coder.fit_transform(grass['Sky'])\n",
    "\n",
    "\n",
    "corr=grass[['Temperature','Humidity','Wind','Sky']].corr()\n",
    "\n",
    "plt.figure(figsize=(5,6))\n",
    "sns.heatmap(data=corr,annot=True,cmap='coolwarm')\n",
    "plt.title('Environmental Conditions')\n",
    "plt.show()"
   ]
  },
  {
   "cell_type": "code",
   "execution_count": 35,
   "metadata": {},
   "outputs": [
    {
     "name": "stdout",
     "output_type": "stream",
     "text": [
      "Disturbance\n",
      "Slight effect on count      3149\n",
      "No effect on count          2672\n",
      "Moderate effect on count     766\n",
      "Serious effect on count      239\n",
      "Name: count, dtype: int64\n"
     ]
    },
    {
     "name": "stderr",
     "output_type": "stream",
     "text": [
      "C:\\Users\\Admin\\AppData\\Local\\Temp\\ipykernel_3036\\1957853068.py:6: FutureWarning: \n",
      "\n",
      "Passing `palette` without assigning `hue` is deprecated and will be removed in v0.14.0. Assign the `x` variable to `hue` and set `legend=False` for the same effect.\n",
      "\n",
      "  sns.barplot(data=Dist,palette='viridis')\n"
     ]
    },
    {
     "data": {
      "image/png": "[encoded data removed]",
      "text/plain": [
       "<Figure size 640x480 with 1 Axes>"
      ]
     },
     "metadata": {},
     "output_type": "display_data"
    }
   ],
   "source": [
    "# Distribution\n",
    "Dist=grass['Disturbance'].value_counts()\n",
    "print(Dist)\n",
    "\n",
    "plt.Figure(figsize=(10,8))\n",
    "sns.barplot(data=Dist,palette='viridis')\n",
    "plt.xticks(rotation=45)\n",
    "plt.title('Disturbance Effect')\n",
    "plt.show()"
   ]
  },
  {
   "cell_type": "code",
   "execution_count": 36,
   "metadata": {},
   "outputs": [
    {
     "name": "stdout",
     "output_type": "stream",
     "text": [
      "Distance\n",
      "50 - 100 Meters    4227\n",
      "<= 50 Meters       2599\n",
      "Name: count, dtype: int64\n"
     ]
    },
    {
     "name": "stderr",
     "output_type": "stream",
     "text": [
      "C:\\Users\\Admin\\AppData\\Local\\Temp\\ipykernel_3036\\4129401370.py:7: FutureWarning: \n",
      "\n",
      "Passing `palette` without assigning `hue` is deprecated and will be removed in v0.14.0. Assign the `x` variable to `hue` and set `legend=False` for the same effect.\n",
      "\n",
      "  sns.countplot(data=Distance,palette='viridis')\n"
     ]
    },
    {
     "data": {
      "image/png": "[encoded data removed]",
      "text/plain": [
       "<Figure size 1000x500 with 1 Axes>"
      ]
     },
     "metadata": {},
     "output_type": "display_data"
    }
   ],
   "source": [
    "# Distance Analysis\n",
    "\n",
    "Distance=grass['Distance'].value_counts()\n",
    "print(Distance)\n",
    "\n",
    "plt.figure(figsize=(10,5))\n",
    "sns.countplot(data=Distance,palette='viridis')\n",
    "plt.show()"
   ]
  },
  {
   "cell_type": "code",
   "execution_count": 37,
   "metadata": {},
   "outputs": [
    {
     "name": "stdout",
     "output_type": "stream",
     "text": [
      "Flyover_Observed\n",
      "False    6229\n",
      "True      597\n",
      "Name: count, dtype: int64\n"
     ]
    },
    {
     "name": "stderr",
     "output_type": "stream",
     "text": [
      "C:\\Users\\Admin\\AppData\\Local\\Temp\\ipykernel_3036\\1696435466.py:7: FutureWarning: \n",
      "\n",
      "Passing `palette` without assigning `hue` is deprecated and will be removed in v0.14.0. Assign the `x` variable to `hue` and set `legend=False` for the same effect.\n",
      "\n",
      "  sns.barplot(data=Flyover_Observed,palette=['orange','pink'])\n"
     ]
    },
    {
     "data": {
      "image/png": "[encoded data removed]",
      "text/plain": [
       "<Figure size 1000x500 with 1 Axes>"
      ]
     },
     "metadata": {},
     "output_type": "display_data"
    }
   ],
   "source": [
    "# Flyover_Observed\n",
    "\n",
    "Flyover_Observed=grass['Flyover_Observed'].value_counts()\n",
    "print(Flyover_Observed)\n",
    "\n",
    "plt.figure(figsize=(10,5))\n",
    "sns.barplot(data=Flyover_Observed,palette=['orange','pink'])\n",
    "plt.show()"
   ]
  },
  {
   "cell_type": "code",
   "execution_count": 38,
   "metadata": {},
   "outputs": [
    {
     "name": "stdout",
     "output_type": "stream",
     "text": [
      "Observer\n",
      "Elizabeth Oswald    2478\n",
      "Kimberly Serno      2436\n",
      "Brian Swimelar      1912\n",
      "Name: count, dtype: int64\n"
     ]
    },
    {
     "name": "stderr",
     "output_type": "stream",
     "text": [
      "C:\\Users\\Admin\\AppData\\Local\\Temp\\ipykernel_3036\\116079040.py:7: FutureWarning: \n",
      "\n",
      "Passing `palette` without assigning `hue` is deprecated and will be removed in v0.14.0. Assign the `x` variable to `hue` and set `legend=False` for the same effect.\n",
      "\n",
      "  sns.barplot(data=Observer,palette='viridis')\n"
     ]
    },
    {
     "data": {
      "image/png": "[encoded data removed]",
      "text/plain": [
       "<Figure size 640x480 with 1 Axes>"
      ]
     },
     "metadata": {},
     "output_type": "display_data"
    }
   ],
   "source": [
    "# Observer Bias\n",
    "\n",
    "Observer=grass['Observer'].value_counts().nlargest(10)\n",
    "print(Observer)\n",
    "\n",
    "plt.Figure(figsize=(12,7))\n",
    "sns.barplot(data=Observer,palette='viridis')\n",
    "plt.show()\n"
   ]
  },
  {
   "cell_type": "code",
   "execution_count": 39,
   "metadata": {},
   "outputs": [
    {
     "name": "stdout",
     "output_type": "stream",
     "text": [
      "Visit\n",
      "1    2474\n",
      "2    2246\n",
      "3    2106\n",
      "Name: count, dtype: int64\n"
     ]
    },
    {
     "name": "stderr",
     "output_type": "stream",
     "text": [
      "C:\\Users\\Admin\\AppData\\Local\\Temp\\ipykernel_3036\\1802867887.py:7: FutureWarning: \n",
      "\n",
      "Passing `palette` without assigning `hue` is deprecated and will be removed in v0.14.0. Assign the `x` variable to `hue` and set `legend=False` for the same effect.\n",
      "\n",
      "  sns.barplot(data=Visit,palette='viridis')\n"
     ]
    },
    {
     "data": {
      "image/png": "[encoded data removed]",
      "text/plain": [
       "<Figure size 640x480 with 1 Axes>"
      ]
     },
     "metadata": {},
     "output_type": "display_data"
    }
   ],
   "source": [
    "# Visit \n",
    "\n",
    "Visit=grass['Visit'].value_counts()\n",
    "print(Visit)\n",
    "\n",
    "plt.Figure(figsize=(10,7))\n",
    "sns.barplot(data=Visit,palette='viridis')\n",
    "plt.show()"
   ]
  },
  {
   "cell_type": "code",
   "execution_count": 40,
   "metadata": {},
   "outputs": [
    {
     "name": "stdout",
     "output_type": "stream",
     "text": [
      "PIF_Watchlist_Status\n",
      "False    6786\n",
      "True       40\n",
      "Name: count, dtype: int64\n"
     ]
    },
    {
     "name": "stderr",
     "output_type": "stream",
     "text": [
      "C:\\Users\\Admin\\AppData\\Local\\Temp\\ipykernel_3036\\969848443.py:7: FutureWarning: \n",
      "\n",
      "Passing `palette` without assigning `hue` is deprecated and will be removed in v0.14.0. Assign the `x` variable to `hue` and set `legend=False` for the same effect.\n",
      "\n",
      "  sns.barplot(data=PIF,palette='viridis')\n"
     ]
    },
    {
     "data": {
      "image/png": "[encoded data removed]",
      "text/plain": [
       "<Figure size 640x480 with 1 Axes>"
      ]
     },
     "metadata": {},
     "output_type": "display_data"
    }
   ],
   "source": [
    "# PIF_Watchlist_Status \n",
    "\n",
    "PIF=grass['PIF_Watchlist_Status'].value_counts()\n",
    "print(PIF)\n",
    "\n",
    "plt.Figure(figsize=(10,7))\n",
    "sns.barplot(data=PIF,palette='viridis')\n",
    "plt.show()"
   ]
  },
  {
   "cell_type": "code",
   "execution_count": 41,
   "metadata": {},
   "outputs": [
    {
     "name": "stdout",
     "output_type": "stream",
     "text": [
      "Regional_Stewardship_Status\n",
      "False    5381\n",
      "True     1445\n",
      "Name: count, dtype: int64\n"
     ]
    },
    {
     "name": "stderr",
     "output_type": "stream",
     "text": [
      "C:\\Users\\Admin\\AppData\\Local\\Temp\\ipykernel_3036\\3203363927.py:7: FutureWarning: \n",
      "\n",
      "Passing `palette` without assigning `hue` is deprecated and will be removed in v0.14.0. Assign the `x` variable to `hue` and set `legend=False` for the same effect.\n",
      "\n",
      "  sns.barplot(data=Regional,palette='viridis')\n"
     ]
    },
    {
     "data": {
      "image/png": "[encoded data removed]",
      "text/plain": [
       "<Figure size 640x480 with 1 Axes>"
      ]
     },
     "metadata": {},
     "output_type": "display_data"
    }
   ],
   "source": [
    "# Regional_Stewardship_Status\n",
    "\n",
    "Regional=grass['Regional_Stewardship_Status'].value_counts()\n",
    "print(Regional)\n",
    "\n",
    "plt.Figure(figsize=(10,7))\n",
    "sns.barplot(data=Regional,palette='viridis')\n",
    "plt.show()"
   ]
  },
  {
   "cell_type": "code",
   "execution_count": 42,
   "metadata": {},
   "outputs": [
    {
     "name": "stdout",
     "output_type": "stream",
     "text": [
      "AOU_Code\n",
      "NOCA    530\n",
      "INBU    461\n",
      "FISP    456\n",
      "CHSP    353\n",
      "CARW    347\n",
      "GRSP    346\n",
      "AMGO    310\n",
      "RWBL    273\n",
      "SOSP    222\n",
      "MODO    197\n",
      "BHCO    193\n",
      "ETTI    179\n",
      "AMRO    176\n",
      "EAME    170\n",
      "EABL    167\n",
      "EATO    159\n",
      "AMCR    137\n",
      "BARS    130\n",
      "NOMO    130\n",
      "BLJA    119\n",
      "COGR    107\n",
      "COYE    101\n",
      "BGGN     94\n",
      "CACH     93\n",
      "RBWO     91\n",
      "EAWP     88\n",
      "EUST     81\n",
      "GRCA     73\n",
      "GCFL     68\n",
      "CEDW     62\n",
      "Name: count, dtype: int64\n"
     ]
    },
    {
     "name": "stderr",
     "output_type": "stream",
     "text": [
      "C:\\Users\\Admin\\AppData\\Local\\Temp\\ipykernel_3036\\1723846350.py:7: FutureWarning: \n",
      "\n",
      "Passing `palette` without assigning `hue` is deprecated and will be removed in v0.14.0. Assign the `x` variable to `hue` and set `legend=False` for the same effect.\n",
      "\n",
      "  sns.barplot(x=AOU.index,y=AOU.values,palette='viridis')\n"
     ]
    },
    {
     "data": {
      "image/png": "[encoded data removed]",
      "text/plain": [
       "<Figure size 640x480 with 1 Axes>"
      ]
     },
     "metadata": {},
     "output_type": "display_data"
    }
   ],
   "source": [
    "# AOU Code Patterns\n",
    "\n",
    "AOU=grass['AOU_Code'].value_counts().nlargest(30)\n",
    "print(AOU)\n",
    "\n",
    "plt.Figure(figsize=(20,10))\n",
    "sns.barplot(x=AOU.index,y=AOU.values,palette='viridis')\n",
    "plt.xticks(rotation=90)\n",
    "plt.grid(axis='y')\n",
    "plt.show()"
   ]
  },
  {
   "cell_type": "markdown",
   "metadata": {},
   "source": [
    "#  SQL"
   ]
  },
  {
   "cell_type": "code",
   "execution_count": 1,
   "metadata": {},
   "outputs": [],
   "source": [
    "#sql connection\n",
    "\n",
    "import pandas as pd\n",
    "import pymysql\n",
    "\n",
    "conn=pymysql.connect(\n",
    "host='localhost',\n",
    "user='root',\n",
    "password='Janakiramanjohn1330@',\n",
    "database='birdforest'\n",
    ")\n",
    "mycursor=conn.cursor()\n"
   ]
  },
  {
   "cell_type": "code",
   "execution_count": null,
   "metadata": {},
   "outputs": [
    {
     "data": {
      "text/plain": [
       "<pymysql.connections.Connection at 0x1f7cef986e0>"
      ]
     },
     "execution_count": 2,
     "metadata": {},
     "output_type": "execute_result"
    }
   ],
   "source": [
    "conn # check the connection "
   ]
  },
  {
   "cell_type": "code",
   "execution_count": null,
   "metadata": {},
   "outputs": [],
   "source": [
    "g='Grassland.csv' #load dataset\n",
    "df2=pd.read_csv(g)"
   ]
  },
  {
   "cell_type": "code",
   "execution_count": null,
   "metadata": {},
   "outputs": [],
   "source": [
    "# writing query for creating a table\n",
    "q1=\"\"\"\n",
    "   create table Grassland(\n",
    "        Admin_Unit_Code VARCHAR(100),\n",
    "        Plot_Name VARCHAR(100),\n",
    "        Location_Type VARCHAR(100),\n",
    "        Year INT,\n",
    "        Date DATE,\t\n",
    "        Start_Time TIME,\n",
    "        End_Time TIME,\n",
    "        Observer VARCHAR(50),\n",
    "        Visit INT,\n",
    "        Interval_Length VARCHAR(50),\n",
    "        ID_Method VARCHAR(100),\n",
    "        Distance VARCHAR(100),\n",
    "        Flyover_Observed VARCHAR(50),\n",
    "        Sex VARCHAR(50),\n",
    "        Common_Name VARCHAR(100),\n",
    "        Scientific_Name VARCHAR(100),\n",
    "        AcceptedTSN INT,\n",
    "        AOU_Code VARCHAR(50),\n",
    "        PIF_Watchlist_Status VARCHAR(50),\n",
    "        Regional_Stewardship_Status BOOLEAN,\n",
    "        Temperature FLOAT,\n",
    "        Humidity FLOAT,\n",
    "        Sky VARCHAR(50),\n",
    "        Wind VARCHAR(50),\n",
    "        Disturbance VARCHAR(100),\n",
    "        Initial_Three_Min_Cnt VARCHAR(50)\n",
    ")\"\"\"\n",
    "\n",
    "mycursor.execute(q1)\n",
    "conn.commit()"
   ]
  },
  {
   "cell_type": "code",
   "execution_count": null,
   "metadata": {},
   "outputs": [],
   "source": [
    "#inserting the values into the table\n",
    "insert = \"\"\"\n",
    "   INSERT INTO Grassland (\n",
    "       Admin_Unit_Code, Plot_Name, Location_Type, Year, Date, Start_Time, End_Time,\n",
    "       Observer, Visit, Interval_Length, ID_Method, Distance, Flyover_Observed,Sex,Common_Name,\n",
    "       Scientific_Name, AcceptedTSN, AOU_Code, PIF_Watchlist_Status, \n",
    "       Regional_Stewardship_Status, Temperature, Humidity, Sky, Wind, Disturbance, \n",
    "       Initial_Three_Min_Cnt\n",
    "   )\n",
    "   VALUES (%s, %s, %s, %s, %s, %s, %s, %s, %s, %s, %s, %s, %s, %s, %s, %s, %s, %s, %s, %s, %s, %s, %s, %s, %s,%s)\n",
    "\"\"\"\n",
    " # using for loop to iterate the rows\n",
    "for index, row in df2.iterrows():\n",
    "    mycursor.execute(insert, (\n",
    "        row['Admin_Unit_Code'],row['Plot_Name'], row['Location_Type'],\n",
    "        row['Year'], row['Date'], row['Start_Time'], row['End_Time'], row['Observer'],\n",
    "        row['Visit'], row['Interval_Length'], row['ID_Method'], row['Distance'],\n",
    "        row['Flyover_Observed'],row['Sex'], row['Common_Name'], row['Scientific_Name'],\n",
    "        row['AcceptedTSN'], row['AOU_Code'],  \n",
    "        row['PIF_Watchlist_Status'], row['Regional_Stewardship_Status'],\n",
    "        row['Temperature'], row['Humidity'], row['Sky'], row['Wind'],\n",
    "        row['Disturbance'], row['Initial_Three_Min_Cnt']\n",
    "    ))\n",
    "    conn.commit()\n"
   ]
  },
  {
   "cell_type": "code",
   "execution_count": null,
   "metadata": {},
   "outputs": [],
   "source": []
  },
  {
   "cell_type": "code",
   "execution_count": null,
   "metadata": {},
   "outputs": [],
   "source": []
  },
  {
   "cell_type": "code",
   "execution_count": null,
   "metadata": {},
   "outputs": [],
   "source": []
  },
  {
   "cell_type": "code",
   "execution_count": null,
   "metadata": {},
   "outputs": [],
   "source": []
  }
 ],
 "metadata": {
  "kernelspec": {
   "display_name": "Python 3",
   "language": "python",
   "name": "python3"
  },
  "language_info": {
   "codemirror_mode": {
    "name": "ipython",
    "version": 3
   },
   "file_extension": ".py",
   "mimetype": "text/x-python",
   "name": "python",
   "nbconvert_exporter": "python",
   "pygments_lexer": "ipython3",
   "version": "3.13.1"
  }
 },
 "nbformat": 4,
 "nbformat_minor": 2
}
